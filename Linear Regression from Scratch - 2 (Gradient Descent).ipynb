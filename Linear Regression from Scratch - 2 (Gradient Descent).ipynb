{
 "cells": [
  {
   "cell_type": "code",
   "execution_count": 1,
   "metadata": {},
   "outputs": [],
   "source": [
    "import numpy as np #importing essential library\n",
    "import matplotlib.pyplot as plt"
   ]
  },
  {
   "cell_type": "code",
   "execution_count": 2,
   "metadata": {},
   "outputs": [],
   "source": [
    "def func(m,x,c): #defining basic linear regression function, m and c being unknown\n",
    "    return m*x+c"
   ]
  },
  {
   "cell_type": "code",
   "execution_count": 3,
   "metadata": {},
   "outputs": [],
   "source": [
    "def cost_func(actual,predict):\n",
    "    actual = np.array(actual).reshape(-1) #reshaping into a matrix of 1 dimension\n",
    "    predict = np.array(predict).reshape(-1)\n",
    "    \n",
    "    return (sum((actual-predict)**2))/len(actual)\n",
    "    "
   ]
  },
  {
   "cell_type": "code",
   "execution_count": 4,
   "metadata": {},
   "outputs": [],
   "source": [
    "# partial derievative formula: \"https://spin.atomicobject.com/wp-content/uploads/linear_regression_gradient1.png\"\n",
    "def partial_deriv_m(actual,m,x,c):\n",
    "    actual = np.array(actual).reshape(-1)\n",
    "    return (-2*(sum(x*(actual - np.array(func(m,x,c)).reshape(-1)))))/len(actual)\n",
    "    \n",
    "\n",
    "def partial_deriv_c(actual,m,x,c):\n",
    "    actual = np.array(actual).reshape(-1)\n",
    "    return (-2*(sum(actual - np.array(func(m,x,c)).reshape(-1))))/len(actual)"
   ]
  },
  {
   "cell_type": "code",
   "execution_count": 5,
   "metadata": {},
   "outputs": [],
   "source": [
    "def accuracy(pred,actual):\n",
    "    pred = np.array(pred).reshape(-1)\n",
    "    actual= np.array(actual).reshape(-1)\n",
    "    \n",
    "    actual_mean=np.mean(actual)\n",
    "    \n",
    "    \n",
    "    return 1- ((cost_func(actual,pred))/(cost_func(actual,[actual_mean for i in range(len(actual))])))   \n",
    "    \n",
    "    \n",
    "    #r-squared error"
   ]
  },
  {
   "cell_type": "code",
   "execution_count": 6,
   "metadata": {},
   "outputs": [],
   "source": [
    "import random as rd\n",
    "series_x = np.random.normal(3,0.2,100)\n",
    "series_y = ((series_x + np.random.normal(3,0.2,100))*3) - 100 #line with negetive slope "
   ]
  },
  {
   "cell_type": "code",
   "execution_count": 7,
   "metadata": {},
   "outputs": [],
   "source": [
    "def linear_regression(data,target,learning_rate = 0.0001,iteration = 1000):\n",
    "    data = np.array(data).reshape(-1)\n",
    "    target= np.array(target).reshape(-1)\n",
    "    m = 0\n",
    "    c = 0\n",
    "    for i in range(iteration):\n",
    "        m -= learning_rate * partial_deriv_m(target,m,data,c)\n",
    "        c -= learning_rate * partial_deriv_c(target,m,data,c)\n",
    "    print(m,c,i,cost_func(target,func(m,data,c)))\n",
    "    return m,c,cost_func(target,func(m,data,c))  "
   ]
  },
  {
   "cell_type": "code",
   "execution_count": 8,
   "metadata": {},
   "outputs": [
    {
     "data": {
      "text/plain": [
       "<matplotlib.collections.PathCollection at 0x6d45150>"
      ]
     },
     "execution_count": 8,
     "metadata": {},
     "output_type": "execute_result"
    },
    {
     "data": {
      "image/png": "[encoded data removed]",
      "text/plain": [
       "<Figure size 432x288 with 1 Axes>"
      ]
     },
     "metadata": {},
     "output_type": "display_data"
    }
   ],
   "source": [
    "plt.scatter(series_x,series_y)"
   ]
  },
  {
   "cell_type": "code",
   "execution_count": 9,
   "metadata": {},
   "outputs": [
    {
     "name": "stdout",
     "output_type": "stream",
     "text": [
      "2.5974677140027853 -89.67882241234133 9999 0.36152945795520935\n"
     ]
    }
   ],
   "source": [
    "pred_var = linear_regression(series_x,series_y,learning_rate = 0.08,iteration = 10000)\n",
    "pred = func(pred_var[0],series_x,pred_var[1])"
   ]
  },
  {
   "cell_type": "code",
   "execution_count": 10,
   "metadata": {},
   "outputs": [
    {
     "data": {
      "text/plain": [
       "[<matplotlib.lines.Line2D at 0x6db7350>,\n",
       " <matplotlib.lines.Line2D at 0x6db74b0>]"
      ]
     },
     "execution_count": 10,
     "metadata": {},
     "output_type": "execute_result"
    },
    {
     "data": {
      "image/png": "[encoded data removed]",
      "text/plain": [
       "<Figure size 432x288 with 1 Axes>"
      ]
     },
     "metadata": {},
     "output_type": "display_data"
    }
   ],
   "source": [
    "plt.plot(series_x,series_y, 'ro', series_x,pred, 'b-')"
   ]
  },
  {
   "cell_type": "code",
   "execution_count": 11,
   "metadata": {},
   "outputs": [
    {
     "name": "stdout",
     "output_type": "stream",
     "text": [
      "0.48512012557176043\n"
     ]
    }
   ],
   "source": [
    "print(accuracy(pred,series_y))"
   ]
  },
  {
   "cell_type": "code",
   "execution_count": 12,
   "metadata": {},
   "outputs": [
    {
     "name": "stdout",
     "output_type": "stream",
     "text": [
      "0.48512061299802667\n"
     ]
    }
   ],
   "source": [
    "from sklearn.linear_model import LinearRegression\n",
    "clf = LinearRegression()\n",
    "clf.fit(series_x.reshape(-1,1),series_y)\n",
    "predi = clf.predict(series_x.reshape(-1,1))\n",
    "print(accuracy(predi,series_y))"
   ]
  },
  {
   "cell_type": "code",
   "execution_count": 13,
   "metadata": {},
   "outputs": [
    {
     "data": {
      "text/plain": [
       "[<matplotlib.lines.Line2D at 0x89763d0>,\n",
       " <matplotlib.lines.Line2D at 0x8976490>]"
      ]
     },
     "execution_count": 13,
     "metadata": {},
     "output_type": "execute_result"
    },
    {
     "data": {
      "image/png": "[encoded data removed]",
      "text/plain": [
       "<Figure size 432x288 with 1 Axes>"
      ]
     },
     "metadata": {},
     "output_type": "display_data"
    }
   ],
   "source": [
    "plt.plot(series_x,series_y, 'ro', series_x,predi, 'b-')"
   ]
  },
  {
   "cell_type": "code",
   "execution_count": null,
   "metadata": {},
   "outputs": [],
   "source": []
  }
 ],
 "metadata": {
  "kernelspec": {
   "display_name": "Python 3",
   "language": "python",
   "name": "python3"
  },
  "language_info": {
   "codemirror_mode": {
    "name": "ipython",
    "version": 3
   },
   "file_extension": ".py",
   "mimetype": "text/x-python",
   "name": "python",
   "nbconvert_exporter": "python",
   "pygments_lexer": "ipython3",
   "version": "3.6.5"
  }
 },
 "nbformat": 4,
 "nbformat_minor": 2
}
