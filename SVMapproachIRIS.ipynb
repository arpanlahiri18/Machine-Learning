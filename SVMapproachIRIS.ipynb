{
 "cells": [
  {
   "cell_type": "code",
   "execution_count": 2,
   "metadata": {},
   "outputs": [],
   "source": [
    "from sklearn import datasets\n",
    "iris = datasets.load_iris()"
   ]
  },
  {
   "cell_type": "code",
   "execution_count": 88,
   "metadata": {},
   "outputs": [
    {
     "data": {
      "text/plain": [
       "['sepal length (cm)',\n",
       " 'sepal width (cm)',\n",
       " 'petal length (cm)',\n",
       " 'petal width (cm)']"
      ]
     },
     "execution_count": 88,
     "metadata": {},
     "output_type": "execute_result"
    }
   ],
   "source": [
    "iris.feature_names\n"
   ]
  },
  {
   "cell_type": "code",
   "execution_count": 38,
   "metadata": {},
   "outputs": [
    {
     "data": {
      "text/plain": [
       "<matplotlib.collections.PathCollection at 0x8949ab0>"
      ]
     },
     "execution_count": 38,
     "metadata": {},
     "output_type": "execute_result"
    },
    {
     "data": {
      "image/png": "[encoded data removed]",
      "text/plain": [
       "<Figure size 432x288 with 1 Axes>"
      ]
     },
     "metadata": {},
     "output_type": "display_data"
    }
   ],
   "source": [
    "import matplotlib.pyplot as plt\n",
    "plt.scatter(iris.data[:50,0],iris.data[:50,1])#'sepal length (cm)','sepal width (cm)' are used\n",
    "plt.scatter(iris.data[50:100,0],iris.data[50:100,1])\n",
    "plt.scatter(iris.data[100:150,0],iris.data[100:150,1])\n",
    "\n"
   ]
  },
  {
   "cell_type": "code",
   "execution_count": 87,
   "metadata": {},
   "outputs": [
    {
     "data": {
      "text/plain": [
       "'We can clearly see that class 1 has a clear boundary over 2 and 3 and they both indeed have a acceptable boundary'"
      ]
     },
     "execution_count": 87,
     "metadata": {},
     "output_type": "execute_result"
    },
    {
     "data": {
      "image/png": "[encoded data removed]",
      "text/plain": [
       "<Figure size 432x288 with 1 Axes>"
      ]
     },
     "metadata": {},
     "output_type": "display_data"
    }
   ],
   "source": [
    "plt.scatter(iris.data[:50,2],iris.data[:50,3],c = \"blue\")#blue, only 'petal length (cm)','petal width (cm)'are used\n",
    "plt.scatter(iris.data[50:100,2],iris.data[50:100,3],c = \"orange\")#orange\n",
    "plt.scatter(iris.data[100:150,2],iris.data[100:150,3],c = \"green\")#green\n",
    "'''We can clearly see that class 1 has a clear boundary over 2 and 3 and they both indeed have a acceptable boundary'''"
   ]
  },
  {
   "cell_type": "code",
   "execution_count": 43,
   "metadata": {},
   "outputs": [],
   "source": [
    "from sklearn import svm\n",
    "from sklearn.cross_validation import train_test_split as tts\n",
    "from sklearn import metrics\n",
    "from sklearn.metrics import accuracy_score"
   ]
  },
  {
   "cell_type": "code",
   "execution_count": 83,
   "metadata": {},
   "outputs": [
    {
     "name": "stdout",
     "output_type": "stream",
     "text": [
      "[0 0 2 2 0 1 1 2 0 1 2 0 2 1 2 2 2 2 1 0 2 2 1 0 0 1 0 2 1 0]\n",
      "[0 0 2 2 0 1 1 2 0 1 2 0 2 1 2 2 2 2 1 0 2 2 1 0 0 1 0 2 1 0]\n"
     ]
    },
    {
     "data": {
      "text/plain": [
       "1.0"
      ]
     },
     "execution_count": 83,
     "metadata": {},
     "output_type": "execute_result"
    }
   ],
   "source": [
    "train_data,test_data,train_target,test_target = tts(iris.data[:,2:4],iris.target,test_size=0.2)\n",
    "clf = svm.SVC()#classifier\n",
    "clf.fit(train_data, train_target) #training data \n",
    "pred = clf.predict(test_data) #prediction\n",
    "print(pred)\n",
    "print(test_target)\n",
    "accuracy_score(pred,test_target)"
   ]
  }
 ],
 "metadata": {
  "kernelspec": {
   "display_name": "Python 3",
   "language": "python",
   "name": "python3"
  },
  "language_info": {
   "codemirror_mode": {
    "name": "ipython",
    "version": 3
   },
   "file_extension": ".py",
   "mimetype": "text/x-python",
   "name": "python",
   "nbconvert_exporter": "python",
   "pygments_lexer": "ipython3",
   "version": "3.6.5"
  }
 },
 "nbformat": 4,
 "nbformat_minor": 2
}
