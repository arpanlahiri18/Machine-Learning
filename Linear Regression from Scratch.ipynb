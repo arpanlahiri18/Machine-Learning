{
 "cells": [
  {
   "cell_type": "markdown",
   "metadata": {},
   "source": [
    "Linear Regression"
   ]
  },
  {
   "cell_type": "code",
   "execution_count": 1,
   "metadata": {},
   "outputs": [],
   "source": [
    "#Y = m*x + c\n",
    "#cost function = sum of all error squared\n",
    "#m = sum((data - data_mean)*(target -target_mean))/sum((data - data_mean)**2)\n",
    "#c = target_mean - (data_mean*m)\n",
    "# link = \"https://cdn-images-1.medium.com/max/800/1*O2xXpYS7A3VlLXqT6SNMLg.png\" + m = Bi, c = B0"
   ]
  },
  {
   "cell_type": "code",
   "execution_count": 2,
   "metadata": {},
   "outputs": [],
   "source": [
    "import numpy as np\n",
    "import matplotlib.pyplot as plt"
   ]
  },
  {
   "cell_type": "code",
   "execution_count": 3,
   "metadata": {},
   "outputs": [],
   "source": [
    "def linear_reg(data,target):\n",
    "    \n",
    "    data = np.array(data).reshape(-1)\n",
    "    target = np.array(target).reshape(-1)\n",
    "    \n",
    "    data_mean = np.mean(data)\n",
    "    target_mean = np.mean(target)\n",
    "    \n",
    "    num = sum((data-data_mean)*(target-target_mean))\n",
    "    denom = sum((data-data_mean)**2)\n",
    "    \n",
    "    m = num/denom\n",
    "    c = target_mean - (data_mean*m)\n",
    "    \n",
    "    return m,c,sum_squared_error(target,func(data,m,c))\n",
    "    \n",
    "    \n",
    "    \n",
    "    "
   ]
  },
  {
   "cell_type": "code",
   "execution_count": 4,
   "metadata": {},
   "outputs": [],
   "source": [
    "#sum of squared error\n",
    "def sum_squared_error(actual,predicted):\n",
    "    actual = np.array(actual).reshape(-1)\n",
    "    predicted = np.array(predicted).reshape(-1)\n",
    "    if len(actual) != len(predicted): return \"Arrays with different dimension\"\n",
    "    return (sum((actual - predicted)**2))/len(actual)\n",
    "    "
   ]
  },
  {
   "cell_type": "code",
   "execution_count": 5,
   "metadata": {},
   "outputs": [],
   "source": [
    "def func(x,m,c):\n",
    "    return m*x+c"
   ]
  },
  {
   "cell_type": "code",
   "execution_count": 6,
   "metadata": {},
   "outputs": [],
   "source": [
    "def accuracy(pred,actual):\n",
    "    pred = np.array(pred).reshape(-1)\n",
    "    actual= np.array(actual).reshape(-1)\n",
    "    \n",
    "    actual_mean=np.mean(actual)\n",
    "    \n",
    "    \n",
    "    return 1- ((sum_squared_error(actual,pred))/(sum_squared_error(actual,[actual_mean for i in range(len(actual))])))   \n",
    "    \n",
    "    \n",
    "    #r-squared error"
   ]
  },
  {
   "cell_type": "code",
   "execution_count": 7,
   "metadata": {},
   "outputs": [],
   "source": [
    "import random as rd\n",
    "series_y = np.array([0.01*i+rd.random() for i in range(100)])\n",
    "series_x = np.array([i for i in range(100)])"
   ]
  },
  {
   "cell_type": "code",
   "execution_count": 8,
   "metadata": {},
   "outputs": [
    {
     "data": {
      "text/plain": [
       "<matplotlib.collections.PathCollection at 0x69e8330>"
      ]
     },
     "execution_count": 8,
     "metadata": {},
     "output_type": "execute_result"
    },
    {
     "data": {
      "image/png": "[encoded data removed]",
      "text/plain": [
       "<Figure size 432x288 with 1 Axes>"
      ]
     },
     "metadata": {},
     "output_type": "display_data"
    }
   ],
   "source": [
    "plt.scatter(series_x,series_y)\n"
   ]
  },
  {
   "cell_type": "code",
   "execution_count": 9,
   "metadata": {},
   "outputs": [],
   "source": [
    "pred_var = linear_reg(series_x,series_y)\n",
    "pred = func(series_x,pred_var[0],pred_var[1]) # as return  = m,c,sum_squared_error(target,func(data,m,c))"
   ]
  },
  {
   "cell_type": "code",
   "execution_count": 10,
   "metadata": {},
   "outputs": [
    {
     "data": {
      "text/plain": [
       "[<matplotlib.lines.Line2D at 0x6a59cb0>,\n",
       " <matplotlib.lines.Line2D at 0x6a59e10>]"
      ]
     },
     "execution_count": 10,
     "metadata": {},
     "output_type": "execute_result"
    },
    {
     "data": {
      "image/png": "[encoded data removed]",
      "text/plain": [
       "<Figure size 432x288 with 1 Axes>"
      ]
     },
     "metadata": {},
     "output_type": "display_data"
    }
   ],
   "source": [
    "plt.plot(series_x,series_y, 'ro', series_x,pred, 'b-')"
   ]
  },
  {
   "cell_type": "code",
   "execution_count": 11,
   "metadata": {},
   "outputs": [
    {
     "name": "stdout",
     "output_type": "stream",
     "text": [
      "0.5538195881749404\n"
     ]
    }
   ],
   "source": [
    "print(accuracy(pred,series_y))"
   ]
  },
  {
   "cell_type": "code",
   "execution_count": 12,
   "metadata": {},
   "outputs": [
    {
     "name": "stdout",
     "output_type": "stream",
     "text": [
      "0.5538195881749404\n"
     ]
    }
   ],
   "source": [
    "from sklearn.linear_model import LinearRegression\n",
    "clf = LinearRegression()\n",
    "clf.fit(series_x.reshape(-1,1),series_y)\n",
    "predi = clf.predict(series_x.reshape(-1,1))\n",
    "print(accuracy(predi,series_y))"
   ]
  },
  {
   "cell_type": "markdown",
   "metadata": {},
   "source": [
    "Gradient descent approach"
   ]
  },
  {
   "cell_type": "code",
   "execution_count": null,
   "metadata": {},
   "outputs": [],
   "source": []
  }
 ],
 "metadata": {
  "kernelspec": {
   "display_name": "Python 3",
   "language": "python",
   "name": "python3"
  },
  "language_info": {
   "codemirror_mode": {
    "name": "ipython",
    "version": 3
   },
   "file_extension": ".py",
   "mimetype": "text/x-python",
   "name": "python",
   "nbconvert_exporter": "python",
   "pygments_lexer": "ipython3",
   "version": "3.6.5"
  }
 },
 "nbformat": 4,
 "nbformat_minor": 2
}
